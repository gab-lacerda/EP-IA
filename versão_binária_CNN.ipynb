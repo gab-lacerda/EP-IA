{
  "cells": [
    {
      "cell_type": "markdown",
      "metadata": {
        "id": "view-in-github",
        "colab_type": "text"
      },
      "source": [
        "<a href=\"https://colab.research.google.com/github/gab-lacerda/EP-IA/blob/main/vers%C3%A3o_bin%C3%A1ria_CNN.ipynb\" target=\"_parent\"><img src=\"https://colab.research.google.com/assets/colab-badge.svg\" alt=\"Open In Colab\"/></a>"
      ]
    },
    {
      "cell_type": "code",
      "execution_count": 1,
      "metadata": {
        "colab": {
          "base_uri": "https://localhost:8080/"
        },
        "id": "VYl01yd5pBqG",
        "outputId": "f6814fb6-9052-424b-c082-1552aed36206"
      },
      "outputs": [
        {
          "output_type": "stream",
          "name": "stdout",
          "text": [
            "Collecting keras-tuner\n",
            "  Downloading keras_tuner-1.4.7-py3-none-any.whl (129 kB)\n",
            "\u001b[2K     \u001b[90m━━━━━━━━━━━━━━━━━━━━━━━━━━━━━━━━━━━━━━━━\u001b[0m \u001b[32m129.1/129.1 kB\u001b[0m \u001b[31m1.1 MB/s\u001b[0m eta \u001b[36m0:00:00\u001b[0m\n",
            "\u001b[?25hRequirement already satisfied: keras in /usr/local/lib/python3.10/dist-packages (from keras-tuner) (2.15.0)\n",
            "Requirement already satisfied: packaging in /usr/local/lib/python3.10/dist-packages (from keras-tuner) (24.1)\n",
            "Requirement already satisfied: requests in /usr/local/lib/python3.10/dist-packages (from keras-tuner) (2.31.0)\n",
            "Collecting kt-legacy (from keras-tuner)\n",
            "  Downloading kt_legacy-1.0.5-py3-none-any.whl (9.6 kB)\n",
            "Requirement already satisfied: charset-normalizer<4,>=2 in /usr/local/lib/python3.10/dist-packages (from requests->keras-tuner) (3.3.2)\n",
            "Requirement already satisfied: idna<4,>=2.5 in /usr/local/lib/python3.10/dist-packages (from requests->keras-tuner) (3.7)\n",
            "Requirement already satisfied: urllib3<3,>=1.21.1 in /usr/local/lib/python3.10/dist-packages (from requests->keras-tuner) (2.0.7)\n",
            "Requirement already satisfied: certifi>=2017.4.17 in /usr/local/lib/python3.10/dist-packages (from requests->keras-tuner) (2024.6.2)\n",
            "Installing collected packages: kt-legacy, keras-tuner\n",
            "Successfully installed keras-tuner-1.4.7 kt-legacy-1.0.5\n"
          ]
        }
      ],
      "source": [
        "%pip install keras-tuner"
      ]
    },
    {
      "cell_type": "code",
      "execution_count": 2,
      "metadata": {
        "id": "hIG4skR7u9dB"
      },
      "outputs": [],
      "source": [
        "!rm -rf my_dir"
      ]
    },
    {
      "cell_type": "code",
      "execution_count": 3,
      "metadata": {
        "colab": {
          "base_uri": "https://localhost:8080/"
        },
        "id": "bUFNctglADp_",
        "outputId": "75d4d5dd-5113-4bce-c841-f97d659fb438"
      },
      "outputs": [
        {
          "output_type": "stream",
          "name": "stdout",
          "text": [
            "Trial 23 Complete [00h 00m 00s]\n",
            "\n",
            "Best val_accuracy So Far: 1.0\n",
            "Total elapsed time: 00h 16m 13s\n",
            "Melhores hiperparâmetros: {'filters_0': 64, 'kernel_size_0': 5, 'pool_size_0': 2, 'conv_layers': 2, 'dense_layers': 2, 'units_0': 128, 'dropout_0': 0.30000000000000004, 'filters_1': 96, 'kernel_size_1': 5, 'pool_size_1': 2, 'units_1': 256, 'dropout_1': 0.2, 'filters_2': 32, 'kernel_size_2': 3, 'pool_size_2': 3, 'units_2': 192, 'dropout_2': 0.30000000000000004, 'tuner/epochs': 2, 'tuner/initial_epoch': 0, 'tuner/bracket': 2, 'tuner/round': 0}\n"
          ]
        }
      ],
      "source": [
        "import tensorflow as tf\n",
        "from tensorflow.keras.models import Sequential\n",
        "from tensorflow.keras.layers import Conv2D, MaxPooling2D, Flatten, Dense, Dropout\n",
        "from tensorflow.keras.datasets import mnist\n",
        "from tensorflow.keras.utils import to_categorical\n",
        "import matplotlib.pyplot as plt\n",
        "import numpy as np\n",
        "import seaborn as sns\n",
        "from sklearn.metrics import confusion_matrix\n",
        "from sklearn.model_selection import train_test_split\n",
        "\n",
        "import keras_tuner as kt\n",
        "import pickle\n",
        "\n",
        "# Constrói modelo com vários hiperparâmetros que serão usados para encontrar o melhor modelo\n",
        "def build_model(hp):\n",
        "    # Sequencial, uma camada após a outra\n",
        "    model = Sequential()\n",
        "\n",
        "    # Conv2D layers\n",
        "    model.add(Conv2D(\n",
        "        filters=hp.Int('filters_0', min_value=32, max_value=128, step=32),\n",
        "        kernel_size=hp.Choice('kernel_size_0', values=[3, 5]),\n",
        "        activation='relu',\n",
        "        input_shape=(28, 28, 1)\n",
        "    ))\n",
        "    # Adiciona um MaxPooling de 2x2 ou 3x3\n",
        "    model.add(MaxPooling2D(pool_size=hp.Choice('pool_size_0', values=[2, 3])))\n",
        "\n",
        "    # Adiciona de 1 a 3 camadas convolucionais extras com max pooling de 2x2 ou 3x3 e\n",
        "    # filtros de 32 a 128 com tamanho de 3x3 a 5x5 e função de ativação Relu\n",
        "    for i in range(1, hp.Int('conv_layers', 1, 3)):\n",
        "        model.add(Conv2D(\n",
        "            filters=hp.Int(f'filters_{i}', min_value=32, max_value=128, step=32),\n",
        "            kernel_size=hp.Choice(f'kernel_size_{i}', values=[3, 5]),\n",
        "            activation='relu'\n",
        "        ))\n",
        "        model.add(MaxPooling2D(pool_size=hp.Choice(f'pool_size_{i}', values=[2, 3])))\n",
        "\n",
        "    model.add(Flatten())\n",
        "\n",
        "    # Camadas densas\n",
        "    for i in range(hp.Int('dense_layers', 1, 3)):\n",
        "        # Adiciona uma camada densa com 64 até 256 neurônios e função de ativação Relu\n",
        "        model.add(Dense(\n",
        "            units=hp.Int(f'units_{i}', min_value=64, max_value=256, step=64),\n",
        "            activation='relu'\n",
        "        ))\n",
        "        # Adiciona o dropout que adiciona ruído na rede, isto é, desativa aleatoriamente de 20% a 50% dos neurônios para\n",
        "        # melhorar a adaptabilidade da rede e não viciá-la nos dados de treinamento\n",
        "        model.add(Dropout(rate=hp.Float(f'dropout_{i}', min_value=0.2, max_value=0.5, step=0.1)))\n",
        "\n",
        "    # Camada densa final, com 2 neurônios (´para classificar 0s e 1s) e\n",
        "    # função de ativação softmax, ideal para problemas de classificação\n",
        "    model.add(Dense(2, activation='softmax'))\n",
        "\n",
        "    # Compila o modelo\n",
        "    model.compile(loss='categorical_crossentropy', optimizer='adam', metrics=['accuracy', ])\n",
        "\n",
        "    return model\n",
        "\n",
        "\n",
        "\n",
        "\n",
        "\n",
        "\n",
        "\n",
        "\n",
        "# Load the MNIST dataset\n",
        "(X_train, y_train), (X_test, y_test) = mnist.load_data()\n",
        "\n",
        "# Filtra o dataset para somente os dígitos 0 e 1\n",
        "train_filter = np.where((y_train == 0) | (y_train == 1))\n",
        "test_filter = np.where((y_test == 0) | (y_test == 1))\n",
        "\n",
        "X_train, y_train = X_train[train_filter], y_train[train_filter]\n",
        "X_test, y_test = X_test[test_filter], y_test[test_filter]\n",
        "\n",
        "# Redimensionar as imagens para incluir a dimensão do canal\n",
        "X_train = X_train.reshape(X_train.shape[0], 28, 28, 1).astype('float32')\n",
        "X_test = X_test.reshape(X_test.shape[0], 28, 28, 1).astype('float32')\n",
        "\n",
        "# Normalizar os valores dos pixels para o intervalo [0, 1]\n",
        "X_train /= 255\n",
        "X_test /= 255\n",
        "\n",
        "# Converter os rótulos para o formato one-hot encoding\n",
        "y_train = to_categorical(y_train, 2)\n",
        "y_test = to_categorical(y_test, 2)\n",
        "\n",
        "# Separa o treinamento em dois: treinamento e validação\n",
        "X_train, X_validation, y_train, y_validation = train_test_split(X_train, y_train, test_size=0.2, random_state=42)\n",
        "\n",
        "\n",
        "\n",
        "\n",
        "\n",
        "\n",
        "\n",
        "\n",
        "\n",
        "\n",
        "\n",
        "\n",
        "\n",
        "\n",
        "# Definição da busca por melhores hiperparâmetros\n",
        "tuner = kt.Hyperband(build_model,\n",
        "                    objective='val_accuracy',\n",
        "                    max_epochs=10,\n",
        "                    factor=3,\n",
        "                    directory='my_dir',\n",
        "                    project_name='intro_to_kt')\n",
        "\n",
        "#definição de parada antecipada\n",
        "stop_early = tf.keras.callbacks.EarlyStopping(monitor='val_loss', patience=5)\n",
        "\n",
        "# Executar a busca de hiperparâmetros\n",
        "tuner.search(X_train, y_train, epochs=10, validation_data=(X_validation, y_validation), batch_size=200, verbose=1, callbacks=[stop_early])\n",
        "\n",
        "# Obter os melhores hiperparâmetros\n",
        "best_hps = tuner.get_best_hyperparameters(num_trials=1)[0]\n",
        "\n",
        "print(f\"Melhores hiperparâmetros: {best_hps.values}\")"
      ]
    },
    {
      "cell_type": "code",
      "execution_count": 4,
      "metadata": {
        "colab": {
          "base_uri": "https://localhost:8080/"
        },
        "id": "h0vHV1jIAL2I",
        "outputId": "8a56fdfe-e98d-4f2c-89fd-cf8204dcf5f7"
      },
      "outputs": [
        {
          "output_type": "stream",
          "name": "stdout",
          "text": [
            "Epoch 1/50\n",
            "51/51 [==============================] - 23s 428ms/step - loss: 0.1947 - accuracy: 0.9461 - val_loss: 0.0046 - val_accuracy: 0.9984\n",
            "Epoch 2/50\n",
            "51/51 [==============================] - 20s 393ms/step - loss: 0.0094 - accuracy: 0.9976 - val_loss: 8.9806e-04 - val_accuracy: 1.0000\n",
            "Epoch 3/50\n",
            "51/51 [==============================] - 21s 412ms/step - loss: 0.0036 - accuracy: 0.9991 - val_loss: 4.0549e-04 - val_accuracy: 1.0000\n",
            "Epoch 4/50\n",
            "51/51 [==============================] - 20s 392ms/step - loss: 0.0026 - accuracy: 0.9988 - val_loss: 3.0885e-04 - val_accuracy: 1.0000\n",
            "Epoch 5/50\n",
            "51/51 [==============================] - 21s 419ms/step - loss: 0.0032 - accuracy: 0.9989 - val_loss: 2.0753e-04 - val_accuracy: 1.0000\n",
            "Epoch 6/50\n",
            "51/51 [==============================] - 20s 393ms/step - loss: 0.0016 - accuracy: 0.9997 - val_loss: 2.1912e-04 - val_accuracy: 1.0000\n",
            "Epoch 7/50\n",
            "51/51 [==============================] - 21s 423ms/step - loss: 0.0012 - accuracy: 0.9995 - val_loss: 7.9674e-04 - val_accuracy: 0.9996\n",
            "Epoch 8/50\n",
            "51/51 [==============================] - 20s 393ms/step - loss: 0.0014 - accuracy: 0.9997 - val_loss: 5.0697e-05 - val_accuracy: 1.0000\n",
            "Epoch 9/50\n",
            "51/51 [==============================] - 21s 423ms/step - loss: 3.8231e-04 - accuracy: 0.9998 - val_loss: 8.5861e-06 - val_accuracy: 1.0000\n",
            "Epoch 10/50\n",
            "51/51 [==============================] - 20s 395ms/step - loss: 4.2628e-04 - accuracy: 0.9998 - val_loss: 8.6733e-06 - val_accuracy: 1.0000\n",
            "Epoch 11/50\n",
            "51/51 [==============================] - 21s 417ms/step - loss: 1.6060e-04 - accuracy: 1.0000 - val_loss: 1.0266e-05 - val_accuracy: 1.0000\n",
            "Epoch 12/50\n",
            "51/51 [==============================] - 22s 426ms/step - loss: 1.3172e-04 - accuracy: 1.0000 - val_loss: 7.4055e-05 - val_accuracy: 1.0000\n",
            "Epoch 13/50\n",
            "51/51 [==============================] - 30s 588ms/step - loss: 7.5697e-05 - accuracy: 1.0000 - val_loss: 5.6500e-06 - val_accuracy: 1.0000\n",
            "Epoch 14/50\n",
            "51/51 [==============================] - 21s 402ms/step - loss: 1.4702e-05 - accuracy: 1.0000 - val_loss: 4.8171e-06 - val_accuracy: 1.0000\n",
            "Epoch 15/50\n",
            "51/51 [==============================] - 21s 423ms/step - loss: 2.5945e-05 - accuracy: 1.0000 - val_loss: 4.0696e-06 - val_accuracy: 1.0000\n",
            "Epoch 16/50\n",
            "51/51 [==============================] - 20s 393ms/step - loss: 7.2010e-06 - accuracy: 1.0000 - val_loss: 3.4826e-06 - val_accuracy: 1.0000\n",
            "Epoch 17/50\n",
            "51/51 [==============================] - 22s 436ms/step - loss: 3.2961e-05 - accuracy: 1.0000 - val_loss: 3.4965e-06 - val_accuracy: 1.0000\n",
            "Epoch 18/50\n",
            "51/51 [==============================] - 20s 394ms/step - loss: 1.0587e-05 - accuracy: 1.0000 - val_loss: 3.5487e-06 - val_accuracy: 1.0000\n",
            "Epoch 19/50\n",
            "51/51 [==============================] - 22s 423ms/step - loss: 1.0713e-05 - accuracy: 1.0000 - val_loss: 2.5007e-06 - val_accuracy: 1.0000\n",
            "Epoch 20/50\n",
            "51/51 [==============================] - 20s 390ms/step - loss: 4.3845e-04 - accuracy: 0.9997 - val_loss: 1.6314e-04 - val_accuracy: 1.0000\n",
            "Epoch 21/50\n",
            "51/51 [==============================] - 22s 424ms/step - loss: 2.1777e-04 - accuracy: 0.9999 - val_loss: 5.3875e-05 - val_accuracy: 1.0000\n",
            "Epoch 22/50\n",
            "51/51 [==============================] - 24s 482ms/step - loss: 1.8080e-05 - accuracy: 1.0000 - val_loss: 1.4877e-05 - val_accuracy: 1.0000\n",
            "Epoch 23/50\n",
            "51/51 [==============================] - 20s 394ms/step - loss: 1.0803e-05 - accuracy: 1.0000 - val_loss: 1.8604e-05 - val_accuracy: 1.0000\n",
            "Epoch 24/50\n",
            "51/51 [==============================] - 21s 415ms/step - loss: 5.9585e-05 - accuracy: 1.0000 - val_loss: 4.6141e-06 - val_accuracy: 1.0000\n",
            "Epoch 25/50\n",
            "51/51 [==============================] - 20s 387ms/step - loss: 1.0155e-05 - accuracy: 1.0000 - val_loss: 9.7568e-06 - val_accuracy: 1.0000\n",
            "Epoch 26/50\n",
            "51/51 [==============================] - 22s 431ms/step - loss: 4.6994e-06 - accuracy: 1.0000 - val_loss: 3.7752e-06 - val_accuracy: 1.0000\n",
            "Epoch 27/50\n",
            "51/51 [==============================] - 20s 390ms/step - loss: 2.4580e-06 - accuracy: 1.0000 - val_loss: 5.1200e-06 - val_accuracy: 1.0000\n",
            "Epoch 28/50\n",
            "51/51 [==============================] - 21s 420ms/step - loss: 3.3006e-06 - accuracy: 1.0000 - val_loss: 4.8681e-06 - val_accuracy: 1.0000\n",
            "Epoch 29/50\n",
            "51/51 [==============================] - 20s 396ms/step - loss: 5.8721e-06 - accuracy: 1.0000 - val_loss: 5.1764e-06 - val_accuracy: 1.0000\n",
            "Epoch 30/50\n",
            "51/51 [==============================] - 21s 417ms/step - loss: 3.5812e-06 - accuracy: 1.0000 - val_loss: 3.9566e-06 - val_accuracy: 1.0000\n",
            "Epoch 31/50\n",
            "51/51 [==============================] - 20s 396ms/step - loss: 4.0673e-06 - accuracy: 1.0000 - val_loss: 1.6345e-05 - val_accuracy: 1.0000\n",
            "Epoch 32/50\n",
            "51/51 [==============================] - 22s 425ms/step - loss: 2.7571e-06 - accuracy: 1.0000 - val_loss: 9.6073e-06 - val_accuracy: 1.0000\n",
            "Epoch 33/50\n",
            "51/51 [==============================] - 20s 396ms/step - loss: 9.3484e-07 - accuracy: 1.0000 - val_loss: 7.3187e-06 - val_accuracy: 1.0000\n",
            "Epoch 34/50\n",
            "51/51 [==============================] - 23s 459ms/step - loss: 1.0110e-06 - accuracy: 1.0000 - val_loss: 8.2507e-06 - val_accuracy: 1.0000\n",
            "Epoch 35/50\n",
            "51/51 [==============================] - 20s 388ms/step - loss: 1.0060e-06 - accuracy: 1.0000 - val_loss: 7.2574e-06 - val_accuracy: 1.0000\n",
            "Epoch 36/50\n",
            "51/51 [==============================] - 21s 419ms/step - loss: 3.9363e-06 - accuracy: 1.0000 - val_loss: 4.9121e-06 - val_accuracy: 1.0000\n",
            "Epoch 37/50\n",
            "51/51 [==============================] - 20s 395ms/step - loss: 1.9810e-06 - accuracy: 1.0000 - val_loss: 9.8766e-06 - val_accuracy: 1.0000\n",
            "Epoch 38/50\n",
            "51/51 [==============================] - 21s 420ms/step - loss: 1.8298e-06 - accuracy: 1.0000 - val_loss: 1.3938e-05 - val_accuracy: 1.0000\n",
            "Epoch 39/50\n",
            "51/51 [==============================] - 20s 393ms/step - loss: 1.9023e-06 - accuracy: 1.0000 - val_loss: 7.4179e-06 - val_accuracy: 1.0000\n",
            "Epoch 40/50\n",
            "51/51 [==============================] - 22s 424ms/step - loss: 1.2503e-06 - accuracy: 1.0000 - val_loss: 4.8436e-06 - val_accuracy: 1.0000\n",
            "Epoch 41/50\n",
            "51/51 [==============================] - 20s 388ms/step - loss: 2.8652e-06 - accuracy: 1.0000 - val_loss: 3.0694e-05 - val_accuracy: 1.0000\n",
            "Epoch 42/50\n",
            "51/51 [==============================] - 22s 424ms/step - loss: 1.6225e-06 - accuracy: 1.0000 - val_loss: 1.2701e-05 - val_accuracy: 1.0000\n",
            "Epoch 43/50\n",
            "51/51 [==============================] - 20s 392ms/step - loss: 9.4056e-07 - accuracy: 1.0000 - val_loss: 1.3345e-05 - val_accuracy: 1.0000\n",
            "Epoch 44/50\n",
            "51/51 [==============================] - 22s 425ms/step - loss: 1.2490e-06 - accuracy: 1.0000 - val_loss: 5.8750e-06 - val_accuracy: 1.0000\n",
            "Epoch 45/50\n",
            "51/51 [==============================] - 20s 390ms/step - loss: 5.4390e-07 - accuracy: 1.0000 - val_loss: 6.2432e-06 - val_accuracy: 1.0000\n",
            "Epoch 46/50\n",
            "51/51 [==============================] - 22s 420ms/step - loss: 5.2645e-07 - accuracy: 1.0000 - val_loss: 6.7701e-06 - val_accuracy: 1.0000\n",
            "Epoch 47/50\n",
            "51/51 [==============================] - 20s 394ms/step - loss: 2.1936e-07 - accuracy: 1.0000 - val_loss: 6.8298e-06 - val_accuracy: 1.0000\n",
            "Epoch 48/50\n",
            "51/51 [==============================] - 22s 421ms/step - loss: 9.1419e-07 - accuracy: 1.0000 - val_loss: 5.6833e-06 - val_accuracy: 1.0000\n",
            "Epoch 49/50\n",
            "51/51 [==============================] - 20s 395ms/step - loss: 6.4811e-06 - accuracy: 1.0000 - val_loss: 5.6107e-07 - val_accuracy: 1.0000\n",
            "Epoch 50/50\n",
            "51/51 [==============================] - 21s 412ms/step - loss: 9.7633e-07 - accuracy: 1.0000 - val_loss: 9.9648e-07 - val_accuracy: 1.0000\n",
            "Best epoch: 2\n"
          ]
        }
      ],
      "source": [
        "# Constrói o modelo com os melhores hiperparâmetros por 50 épocas\n",
        "hypermodel = tuner.hypermodel.build(best_hps)\n",
        "history = hypermodel.fit(X_train, y_train, validation_data=(X_validation, y_validation), epochs=50, batch_size=200, verbose=1)\n",
        "\n",
        "# Identifica a época com a melhor acurácia\n",
        "val_acc_per_epoch = history.history['val_accuracy']\n",
        "best_epoch = val_acc_per_epoch.index(max(val_acc_per_epoch)) + 1\n",
        "print('Best epoch: %d' % (best_epoch,))"
      ]
    },
    {
      "cell_type": "code",
      "execution_count": 8,
      "metadata": {
        "colab": {
          "base_uri": "https://localhost:8080/",
          "height": 1000
        },
        "id": "D3oKtx9BAYdO",
        "outputId": "5f15aef6-9898-4cc7-f523-bc7aa84dcca2"
      },
      "outputs": [
        {
          "output_type": "stream",
          "name": "stdout",
          "text": [
            "Epoch 1/2\n",
            "51/51 [==============================] - 23s 421ms/step - loss: 0.2081 - accuracy: 0.9551 - val_loss: 0.0012 - val_accuracy: 0.9996\n",
            "Epoch 2/2\n",
            "51/51 [==============================] - 20s 393ms/step - loss: 0.0060 - accuracy: 0.9985 - val_loss: 3.5914e-04 - val_accuracy: 1.0000\n",
            "Test loss: 0.0023907399736344814\n",
            "Test accuracy: 0.9990543723106384\n",
            "67/67 [==============================] - 1s 16ms/step\n"
          ]
        },
        {
          "output_type": "display_data",
          "data": {
            "text/plain": [
              "<Figure size 1000x800 with 2 Axes>"
            ],
            "image/png": "[encoded data removed]"
          },
          "metadata": {}
        },
        {
          "output_type": "display_data",
          "data": {
            "text/plain": [
              "<Figure size 1000x600 with 1 Axes>"
            ],
            "image/png": "[encoded data removed]"
          },
          "metadata": {}
        }
      ],
      "source": [
        "# Cria o modelo com os melhores hiperparâmetros novamente\n",
        "model = tuner.hypermodel.build(best_hps)\n",
        "\n",
        "# Guardar os pesos iniciais\n",
        "initial_weights = [layer.get_weights() for layer in model.layers]\n",
        "\n",
        "# Retreinar o modelo com a quantidade de épocas ideais\n",
        "history = model.fit(X_train, y_train, validation_data=(X_validation, y_validation), epochs=best_epoch, batch_size=200, verbose=1)\n",
        "\n",
        "# Avaliar o modelo\n",
        "score = model.evaluate(X_test, y_test, verbose=0)\n",
        "print('Test loss:', score[0])\n",
        "print('Test accuracy:', score[1])\n",
        "\n",
        "# Guardar os pesos finais\n",
        "final_weights = [layer.get_weights() for layer in model.layers]\n",
        "\n",
        "# Prever os rótulos para os dados de teste\n",
        "y_pred = model.predict(X_test)\n",
        "y_pred_classes = np.argmax(y_pred, axis=1)\n",
        "y_true_classes = np.argmax(y_test, axis=1)\n",
        "\n",
        "# Plotar a matriz de confusão\n",
        "conf_matrix = confusion_matrix(y_true_classes, y_pred_classes)\n",
        "plt.figure(figsize=(10, 8))\n",
        "sns.heatmap(conf_matrix, annot=True, fmt='d', cmap='Blues', xticklabels=range(2), yticklabels=range(2))\n",
        "plt.xlabel('Predicted')\n",
        "plt.ylabel('True')\n",
        "plt.title('Confusion Matrix')\n",
        "plt.show()\n",
        "\n",
        "# Plotar o gráfico de loss do treinamento\n",
        "plt.figure(figsize=(10, 6))\n",
        "plt.plot(history.history['loss'], label='Training Loss')\n",
        "plt.plot(history.history['val_loss'], label='Validation Loss')\n",
        "plt.xlabel('Epochs')\n",
        "plt.ylabel('Loss')\n",
        "plt.legend()\n",
        "plt.title('Training and Validation Loss')\n",
        "plt.show()\n",
        "\n",
        "# Salvar hiperparâmetros e pesos\n",
        "\n",
        "hyperparameters = best_hps\n",
        "\n",
        "# Salvar hiperparâmetros\n",
        "with open('hyperparameters.pkl', 'wb') as f:\n",
        "    pickle.dump(hyperparameters, f)\n",
        "\n",
        "# Salvar pesos iniciais\n",
        "with open('initial_weights.pkl', 'wb') as f:\n",
        "    pickle.dump(initial_weights, f)\n",
        "\n",
        "# Salvar pesos finais\n",
        "with open('final_weights.pkl', 'wb') as f:\n",
        "    pickle.dump(final_weights, f)\n",
        "\n",
        "# Salvar histórico do treinamento (erro por iteração)\n",
        "with open('training_history.pkl', 'wb') as f:\n",
        "    pickle.dump(history.history, f)\n",
        "\n",
        "# Salvar as saídas da rede neural para os dados de teste\n",
        "with open('test_predictions.pkl', 'wb') as f:\n",
        "    pickle.dump(y_pred, f)"
      ]
    }
  ],
  "metadata": {
    "colab": {
      "provenance": [],
      "include_colab_link": true
    },
    "kernelspec": {
      "display_name": "Python 3",
      "name": "python3"
    },
    "language_info": {
      "name": "python"
    }
  },
  "nbformat": 4,
  "nbformat_minor": 0
}